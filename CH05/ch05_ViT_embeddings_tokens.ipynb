{
  "nbformat": 4,
  "nbformat_minor": 0,
  "metadata": {
    "colab": {
      "provenance": []
    },
    "kernelspec": {
      "name": "python3",
      "display_name": "Python 3"
    },
    "language_info": {
      "name": "python"
    }
  },
  "cells": [
    {
      "cell_type": "markdown",
      "source": [
        "## Open notebook in:\n",
        "| Colab                                 |  Gradient    [link text](https://)                                                                                                                                     |\n",
        "|:-------------------------------------------------------------------------------------------------------------------------------------------------------------------------------------------------------------------|:-----------------------------------------------------------------------------------------------------------------------------------------------------------------------------------------------------------------------|\n",
        "[![Open In Colab](https://colab.research.google.com/assets/colab-badge.svg)](https://colab.research.google.com/github/Nicolepcx/transformers-the-definitive-guide/blob/master/CH05/ch05_ViT_embeddings_tokens.ipynb)                                             | [![Gradient](https://assets.paperspace.io/img/gradient-badge.svg)](https://console.paperspace.com//github.com/Nicolepcx/transformers-the-definitive-guide/blob/main/CH05/ch05_ViT_embeddings_tokens.ipynb)|             "
      ],
      "metadata": {
        "id": "UnrBeLs8Rz-I"
      }
    },
    {
      "cell_type": "markdown",
      "source": [
        "#About this notebook\n",
        "\n",
        "\n",
        "In this notebook, you will use the custom PyTorch module for patch embedding, which is a critical component in [Vision Transformers](https://arxiv.org/abs/2010.11929) (ViTs). The `PatchEmbedding` class takes an input image and divides it into smaller patches, then transforms each patch into a vector embedding. This is achieved by:\n",
        "\n",
        "* Dividing the image into non-overlapping patches\n",
        "* Transforming each patch into a fixed-dimensional embedding using a linear layer\n",
        "* Adding a classification token and positional embeddings to the sequence of patch embeddings\n",
        "\n",
        "The module is designed to work with images of size 28x28 pixels, typical for the MNIST dataset, where each patch is 7x7 pixels.\n",
        "\n",
        "You apply this patch embedding process to a sample image from the MNIST dataset. Additionally, you will visualize the original image with overlaid patch boundaries to illustrate how the image is segmented into patches.\n",
        "\n",
        "\n"
      ],
      "metadata": {
        "id": "3igahluq2HOp"
      }
    },
    {
      "cell_type": "code",
      "source": [
        "!pip install einops"
      ],
      "metadata": {
        "colab": {
          "base_uri": "https://localhost:8080/"
        },
        "id": "SDOGu3XIVfUA",
        "outputId": "3476a6a6-dbce-4d44-b74b-4dfd7f61f176"
      },
      "execution_count": null,
      "outputs": [
        {
          "output_type": "stream",
          "name": "stdout",
          "text": [
            "Collecting einops\n",
            "  Downloading einops-0.8.0-py3-none-any.whl (43 kB)\n",
            "\u001b[?25l     \u001b[90m━━━━━━━━━━━━━━━━━━━━━━━━━━━━━━━━━━━━━━━━\u001b[0m \u001b[32m0.0/43.2 kB\u001b[0m \u001b[31m?\u001b[0m eta \u001b[36m-:--:--\u001b[0m\r\u001b[2K     \u001b[90m━━━━━━━━━━━━━━━━━━━━━━━━━━━━━━━━━━━━━━━━\u001b[0m \u001b[32m43.2/43.2 kB\u001b[0m \u001b[31m1.9 MB/s\u001b[0m eta \u001b[36m0:00:00\u001b[0m\n",
            "\u001b[?25hInstalling collected packages: einops\n",
            "Successfully installed einops-0.8.0\n"
          ]
        }
      ]
    },
    {
      "cell_type": "code",
      "execution_count": null,
      "metadata": {
        "colab": {
          "base_uri": "https://localhost:8080/",
          "height": 468
        },
        "id": "JpbK5_VWVUzI",
        "outputId": "a73b4fa7-f680-4aa0-e05d-45b3591e573f"
      },
      "outputs": [
        {
          "output_type": "display_data",
          "data": {
            "text/plain": [
              "<Figure size 500x500 with 1 Axes>"
            ],
            "image/png": "[encoded data removed]"
          },
          "metadata": {}
        }
      ],
      "source": [
        "import torch\n",
        "import torch.nn as nn\n",
        "from einops import rearrange\n",
        "import matplotlib.pyplot as plt\n",
        "import torchvision.transforms as transforms\n",
        "from torchvision.datasets import MNIST\n",
        "\n",
        "class PatchEmbedding(nn.Module):\n",
        "    def __init__(self, image_size=28, patch_size=7, channels=1, dim=64):\n",
        "        super().__init__()\n",
        "        assert image_size % patch_size == 0, 'Image dimensions must be divisible by the patch size'\n",
        "        num_patches = (image_size // patch_size) ** 2\n",
        "        patch_dim = channels * patch_size ** 2\n",
        "\n",
        "        self.patch_size = patch_size\n",
        "\n",
        "        self.pos_embedding = nn.Parameter(torch.randn(1, num_patches + 1, dim))\n",
        "        self.patch_to_embedding = nn.Linear(patch_dim, dim)\n",
        "        self.cls_token = nn.Parameter(torch.randn(1, 1, dim))\n",
        "\n",
        "    def forward(self, img):\n",
        "        p = self.patch_size\n",
        "\n",
        "        # Rearrange the image into patches\n",
        "        x = rearrange(img, 'b c (h p1) (w p2) -> b (h w) (p1 p2 c)', p1=p, p2=p)\n",
        "        x = self.patch_to_embedding(x)\n",
        "\n",
        "        # Add classification token and positional embedding\n",
        "        cls_tokens = self.cls_token.expand(img.shape[0], -1, -1)\n",
        "        x = torch.cat((cls_tokens, x), dim=1)\n",
        "        x += self.pos_embedding\n",
        "        return x\n",
        "\n",
        "# Load MNIST dataset\n",
        "transform = transforms.Compose([transforms.ToTensor()])\n",
        "mnist = MNIST(root='./data', train=True, download=True, transform=transform)\n",
        "\n",
        "# Get a single image\n",
        "image, label = mnist[0]\n",
        "image = image.squeeze().numpy()  # Convert to numpy array for plotting\n",
        "\n",
        "# Instantiate PatchEmbedding and apply it to the image\n",
        "patch_embedding = PatchEmbedding(image_size=28, patch_size=7, channels=1, dim=64)\n",
        "\n",
        "# Plot the original image and the image with patch boundaries\n",
        "fig, ax = plt.subplots(figsize=(5, 5))\n",
        "\n",
        "# Original image\n",
        "ax.imshow(image, cmap='gray')\n",
        "ax.set_title('Image with Patch Boundaries')\n",
        "\n",
        "# Draw lines to show patch boundaries\n",
        "patch_size = 5\n",
        "for i in range(0, 28, patch_size):\n",
        "    ax.axhline(i, color='red', linestyle='--')\n",
        "    ax.axvline(i, color='red', linestyle='--')\n",
        "\n",
        "plt.show()\n"
      ]
    },
    {
      "cell_type": "code",
      "source": [],
      "metadata": {
        "id": "PCtp31hzVYXY"
      },
      "execution_count": null,
      "outputs": []
    }
  ]
}